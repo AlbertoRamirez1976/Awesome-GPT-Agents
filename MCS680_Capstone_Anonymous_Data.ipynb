{
  "nbformat": 4,
  "nbformat_minor": 0,
  "metadata": {
    "colab": {
      "provenance": [],
      "include_colab_link": true
    },
    "kernelspec": {
      "name": "python3",
      "display_name": "Python 3"
    },
    "language_info": {
      "name": "python"
    },
    "widgets": {
      "application/vnd.jupyter.widget-state+json": {
        "2f22e1c2b1bc4fbba3dee803dff311a2": {
          "model_module": "@jupyter-widgets/controls",
          "model_name": "GridBoxModel",
          "model_module_version": "1.5.0",
          "state": {
            "_dom_classes": [],
            "_model_module": "@jupyter-widgets/controls",
            "_model_module_version": "1.5.0",
            "_model_name": "GridBoxModel",
            "_view_count": null,
            "_view_module": "@jupyter-widgets/controls",
            "_view_module_version": "1.5.0",
            "_view_name": "GridBoxView",
            "box_style": "",
            "children": [
              "IPY_MODEL_244d5b74163c4152903f2925bc5c342a",
              "IPY_MODEL_cdfed9c012ec49698f33986b9175428b",
              "IPY_MODEL_2ec33903b3e74de4a8ac8b0ccfbf36bf",
              "IPY_MODEL_fb328cec7cb742b495235a0233b6cd4a"
            ],
            "layout": "IPY_MODEL_b495fa16dc084afda08fa71237c00258"
          }
        },
        "244d5b74163c4152903f2925bc5c342a": {
          "model_module": "@jupyter-widgets/controls",
          "model_name": "DropdownModel",
          "model_module_version": "1.5.0",
          "state": {
            "_dom_classes": [],
            "_model_module": "@jupyter-widgets/controls",
            "_model_module_version": "1.5.0",
            "_model_name": "DropdownModel",
            "_options_labels": [
              "google/gemini-2.0-flash",
              "google/gemini-2.0-flash-lite",
              "google/gemini-2.5-flash",
              "google/gemini-2.5-flash-lite",
              "google/gemini-2.5-pro",
              "google/gemma-3-12b",
              "google/gemma-3-1b",
              "google/gemma-3-27b",
              "google/gemma-3-4b"
            ],
            "_view_count": null,
            "_view_module": "@jupyter-widgets/controls",
            "_view_module_version": "1.5.0",
            "_view_name": "DropdownView",
            "description": "",
            "description_tooltip": null,
            "disabled": false,
            "index": 0,
            "layout": "IPY_MODEL_b48682cdcccf45258a78f9f49b490c89",
            "style": "IPY_MODEL_5101857e59c74771bdf1663ff28f62b2"
          }
        },
        "cdfed9c012ec49698f33986b9175428b": {
          "model_module": "@jupyter-widgets/controls",
          "model_name": "TextareaModel",
          "model_module_version": "1.5.0",
          "state": {
            "_dom_classes": [],
            "_model_module": "@jupyter-widgets/controls",
            "_model_module_version": "1.5.0",
            "_model_name": "TextareaModel",
            "_view_count": null,
            "_view_module": "@jupyter-widgets/controls",
            "_view_module_version": "1.5.0",
            "_view_name": "TextareaView",
            "continuous_update": true,
            "description": "",
            "description_tooltip": null,
            "disabled": false,
            "layout": "IPY_MODEL_a74c873b3cab4c00ae667defa2bcbf3d",
            "placeholder": "Ask me anything....",
            "rows": null,
            "style": "IPY_MODEL_7bf8085d1a9d416cbe9069a0f38be750",
            "value": ""
          }
        },
        "2ec33903b3e74de4a8ac8b0ccfbf36bf": {
          "model_module": "@jupyter-widgets/controls",
          "model_name": "ButtonModel",
          "model_module_version": "1.5.0",
          "state": {
            "_dom_classes": [],
            "_model_module": "@jupyter-widgets/controls",
            "_model_module_version": "1.5.0",
            "_model_name": "ButtonModel",
            "_view_count": null,
            "_view_module": "@jupyter-widgets/controls",
            "_view_module_version": "1.5.0",
            "_view_name": "ButtonView",
            "button_style": "",
            "description": "Submit Text",
            "disabled": false,
            "icon": "check",
            "layout": "IPY_MODEL_c2e916864b03468882065629a7e049ff",
            "style": "IPY_MODEL_d66e7d288d154c0d90bce860737dee4b",
            "tooltip": "Click to submit the text"
          }
        },
        "fb328cec7cb742b495235a0233b6cd4a": {
          "model_module": "@jupyter-widgets/output",
          "model_name": "OutputModel",
          "model_module_version": "1.0.0",
          "state": {
            "_dom_classes": [],
            "_model_module": "@jupyter-widgets/output",
            "_model_module_version": "1.0.0",
            "_model_name": "OutputModel",
            "_view_count": null,
            "_view_module": "@jupyter-widgets/output",
            "_view_module_version": "1.0.0",
            "_view_name": "OutputView",
            "layout": "IPY_MODEL_1fb8722237b4455d987320569546253f",
            "msg_id": "",
            "outputs": []
          }
        },
        "b495fa16dc084afda08fa71237c00258": {
          "model_module": "@jupyter-widgets/base",
          "model_name": "LayoutModel",
          "model_module_version": "1.2.0",
          "state": {
            "_model_module": "@jupyter-widgets/base",
            "_model_module_version": "1.2.0",
            "_model_name": "LayoutModel",
            "_view_count": null,
            "_view_module": "@jupyter-widgets/base",
            "_view_module_version": "1.2.0",
            "_view_name": "LayoutView",
            "align_content": null,
            "align_items": null,
            "align_self": null,
            "border": null,
            "bottom": null,
            "display": null,
            "flex": null,
            "flex_flow": null,
            "grid_area": null,
            "grid_auto_columns": null,
            "grid_auto_flow": null,
            "grid_auto_rows": null,
            "grid_column": null,
            "grid_gap": null,
            "grid_row": null,
            "grid_template_areas": null,
            "grid_template_columns": null,
            "grid_template_rows": null,
            "height": null,
            "justify_content": null,
            "justify_items": null,
            "left": null,
            "margin": null,
            "max_height": null,
            "max_width": null,
            "min_height": null,
            "min_width": null,
            "object_fit": null,
            "object_position": null,
            "order": null,
            "overflow": null,
            "overflow_x": null,
            "overflow_y": null,
            "padding": null,
            "right": null,
            "top": null,
            "visibility": null,
            "width": null
          }
        },
        "b48682cdcccf45258a78f9f49b490c89": {
          "model_module": "@jupyter-widgets/base",
          "model_name": "LayoutModel",
          "model_module_version": "1.2.0",
          "state": {
            "_model_module": "@jupyter-widgets/base",
            "_model_module_version": "1.2.0",
            "_model_name": "LayoutModel",
            "_view_count": null,
            "_view_module": "@jupyter-widgets/base",
            "_view_module_version": "1.2.0",
            "_view_name": "LayoutView",
            "align_content": null,
            "align_items": null,
            "align_self": null,
            "border": null,
            "bottom": null,
            "display": null,
            "flex": null,
            "flex_flow": null,
            "grid_area": null,
            "grid_auto_columns": null,
            "grid_auto_flow": null,
            "grid_auto_rows": null,
            "grid_column": null,
            "grid_gap": null,
            "grid_row": null,
            "grid_template_areas": null,
            "grid_template_columns": null,
            "grid_template_rows": null,
            "height": null,
            "justify_content": null,
            "justify_items": null,
            "left": null,
            "margin": null,
            "max_height": null,
            "max_width": null,
            "min_height": null,
            "min_width": null,
            "object_fit": null,
            "object_position": null,
            "order": null,
            "overflow": null,
            "overflow_x": null,
            "overflow_y": null,
            "padding": null,
            "right": null,
            "top": null,
            "visibility": null,
            "width": "auto"
          }
        },
        "5101857e59c74771bdf1663ff28f62b2": {
          "model_module": "@jupyter-widgets/controls",
          "model_name": "DescriptionStyleModel",
          "model_module_version": "1.5.0",
          "state": {
            "_model_module": "@jupyter-widgets/controls",
            "_model_module_version": "1.5.0",
            "_model_name": "DescriptionStyleModel",
            "_view_count": null,
            "_view_module": "@jupyter-widgets/base",
            "_view_module_version": "1.2.0",
            "_view_name": "StyleView",
            "description_width": ""
          }
        },
        "a74c873b3cab4c00ae667defa2bcbf3d": {
          "model_module": "@jupyter-widgets/base",
          "model_name": "LayoutModel",
          "model_module_version": "1.2.0",
          "state": {
            "_model_module": "@jupyter-widgets/base",
            "_model_module_version": "1.2.0",
            "_model_name": "LayoutModel",
            "_view_count": null,
            "_view_module": "@jupyter-widgets/base",
            "_view_module_version": "1.2.0",
            "_view_name": "LayoutView",
            "align_content": null,
            "align_items": null,
            "align_self": null,
            "border": null,
            "bottom": null,
            "display": null,
            "flex": null,
            "flex_flow": null,
            "grid_area": null,
            "grid_auto_columns": null,
            "grid_auto_flow": null,
            "grid_auto_rows": null,
            "grid_column": null,
            "grid_gap": null,
            "grid_row": null,
            "grid_template_areas": null,
            "grid_template_columns": null,
            "grid_template_rows": null,
            "height": "100px",
            "justify_content": null,
            "justify_items": null,
            "left": null,
            "margin": null,
            "max_height": null,
            "max_width": null,
            "min_height": null,
            "min_width": null,
            "object_fit": null,
            "object_position": null,
            "order": null,
            "overflow": null,
            "overflow_x": null,
            "overflow_y": null,
            "padding": null,
            "right": null,
            "top": null,
            "visibility": null,
            "width": "auto"
          }
        },
        "7bf8085d1a9d416cbe9069a0f38be750": {
          "model_module": "@jupyter-widgets/controls",
          "model_name": "DescriptionStyleModel",
          "model_module_version": "1.5.0",
          "state": {
            "_model_module": "@jupyter-widgets/controls",
            "_model_module_version": "1.5.0",
            "_model_name": "DescriptionStyleModel",
            "_view_count": null,
            "_view_module": "@jupyter-widgets/base",
            "_view_module_version": "1.2.0",
            "_view_name": "StyleView",
            "description_width": ""
          }
        },
        "c2e916864b03468882065629a7e049ff": {
          "model_module": "@jupyter-widgets/base",
          "model_name": "LayoutModel",
          "model_module_version": "1.2.0",
          "state": {
            "_model_module": "@jupyter-widgets/base",
            "_model_module_version": "1.2.0",
            "_model_name": "LayoutModel",
            "_view_count": null,
            "_view_module": "@jupyter-widgets/base",
            "_view_module_version": "1.2.0",
            "_view_name": "LayoutView",
            "align_content": null,
            "align_items": null,
            "align_self": null,
            "border": null,
            "bottom": null,
            "display": null,
            "flex": null,
            "flex_flow": null,
            "grid_area": null,
            "grid_auto_columns": null,
            "grid_auto_flow": null,
            "grid_auto_rows": null,
            "grid_column": null,
            "grid_gap": null,
            "grid_row": null,
            "grid_template_areas": null,
            "grid_template_columns": null,
            "grid_template_rows": null,
            "height": null,
            "justify_content": null,
            "justify_items": null,
            "left": null,
            "margin": null,
            "max_height": null,
            "max_width": null,
            "min_height": null,
            "min_width": null,
            "object_fit": null,
            "object_position": null,
            "order": null,
            "overflow": null,
            "overflow_x": null,
            "overflow_y": null,
            "padding": null,
            "right": null,
            "top": null,
            "visibility": null,
            "width": null
          }
        },
        "d66e7d288d154c0d90bce860737dee4b": {
          "model_module": "@jupyter-widgets/controls",
          "model_name": "ButtonStyleModel",
          "model_module_version": "1.5.0",
          "state": {
            "_model_module": "@jupyter-widgets/controls",
            "_model_module_version": "1.5.0",
            "_model_name": "ButtonStyleModel",
            "_view_count": null,
            "_view_module": "@jupyter-widgets/base",
            "_view_module_version": "1.2.0",
            "_view_name": "StyleView",
            "button_color": null,
            "font_weight": ""
          }
        },
        "1fb8722237b4455d987320569546253f": {
          "model_module": "@jupyter-widgets/base",
          "model_name": "LayoutModel",
          "model_module_version": "1.2.0",
          "state": {
            "_model_module": "@jupyter-widgets/base",
            "_model_module_version": "1.2.0",
            "_model_name": "LayoutModel",
            "_view_count": null,
            "_view_module": "@jupyter-widgets/base",
            "_view_module_version": "1.2.0",
            "_view_name": "LayoutView",
            "align_content": null,
            "align_items": null,
            "align_self": null,
            "border": null,
            "bottom": null,
            "display": null,
            "flex": null,
            "flex_flow": null,
            "grid_area": null,
            "grid_auto_columns": null,
            "grid_auto_flow": null,
            "grid_auto_rows": null,
            "grid_column": null,
            "grid_gap": null,
            "grid_row": null,
            "grid_template_areas": null,
            "grid_template_columns": null,
            "grid_template_rows": null,
            "height": null,
            "justify_content": null,
            "justify_items": null,
            "left": null,
            "margin": null,
            "max_height": "300px",
            "max_width": null,
            "min_height": null,
            "min_width": null,
            "object_fit": null,
            "object_position": null,
            "order": null,
            "overflow": null,
            "overflow_x": null,
            "overflow_y": "scroll",
            "padding": null,
            "right": null,
            "top": null,
            "visibility": null,
            "width": "auto"
          }
        }
      }
    }
  },
  "cells": [
    {
      "cell_type": "markdown",
      "metadata": {
        "id": "view-in-github",
        "colab_type": "text"
      },
      "source": [
        "<a href=\"https://colab.research.google.com/github/AlbertoRamirez1976/Awesome-GPT-Agents/blob/main/MCS680_Capstone_Anonymous_Data.ipynb\" target=\"_parent\"><img src=\"https://colab.research.google.com/assets/colab-badge.svg\" alt=\"Open In Colab\"/></a>"
      ]
    },
    {
      "cell_type": "markdown",
      "source": [
        "<img src = \"https://i.postimg.cc/DzShCQsb/a-cartoon-robot-in-a-school-wearing-a-guy-fawkes-m-W0sfvgch-Roe-Nmrlx-Fg-F4v-A-z6o-P9-I5-OR3q-Gkf-I8u-PCr-Q.png\">\n",
        "\n",
        "*a demo by Jérémie Rostan*\n",
        "\n",
        "https://www.linkedin.com/in/jeremie-rostan/\n",
        "\n",
        "\n",
        "---\n",
        "\n",
        "<br>\n",
        "\n",
        "Sources\n",
        "\n",
        "[Microsoft Presidio](https://microsoft.github.io/presidio/)\n",
        "\n",
        "[Langchain integration](https://python.langchain.com/v0.1/docs/guides/productionization/safety/presidio_data_anonymization/qa_privacy_protection/)\n"
      ],
      "metadata": {
        "id": "4UJX8oRRxZRb"
      }
    },
    {
      "cell_type": "code",
      "source": [
        "# @title AI prompt cell\n",
        "\n",
        "import ipywidgets as widgets\n",
        "from IPython.display import display, HTML, Markdown,clear_output\n",
        "from google.colab import ai\n",
        "\n",
        "dropdown = widgets.Dropdown(\n",
        "    options=[],\n",
        "    layout={'width': 'auto'}\n",
        ")\n",
        "\n",
        "def update_model_list(new_options):\n",
        "    dropdown.options = new_options\n",
        "update_model_list(ai.list_models())\n",
        "\n",
        "text_input = widgets.Textarea(\n",
        "    placeholder='Ask me anything....',\n",
        "    layout={'width': 'auto', 'height': '100px'},\n",
        ")\n",
        "\n",
        "button = widgets.Button(\n",
        "    description='Submit Text',\n",
        "    disabled=False,\n",
        "    tooltip='Click to submit the text',\n",
        "    icon='check'\n",
        ")\n",
        "\n",
        "output_area = widgets.Output(\n",
        "     layout={'width': 'auto', 'max_height': '300px','overflow_y': 'scroll'}\n",
        ")\n",
        "\n",
        "def on_button_clicked(b):\n",
        "    with output_area:\n",
        "        output_area.clear_output(wait=False)\n",
        "        accumulated_content = \"\"\n",
        "        for new_chunk in ai.generate_text(prompt=text_input.value, model_name=dropdown.value, stream=True):\n",
        "            if new_chunk is None:\n",
        "                continue\n",
        "            accumulated_content += new_chunk\n",
        "            clear_output(wait=True)\n",
        "            display(Markdown(accumulated_content))\n",
        "\n",
        "button.on_click(on_button_clicked)\n",
        "vbox = widgets.GridBox([dropdown, text_input, button, output_area])\n",
        "\n",
        "display(HTML(\"\"\"\n",
        "<style>\n",
        ".widget-dropdown select {\n",
        "    font-size: 18px;\n",
        "    font-family: \"Arial\", sans-serif;\n",
        "}\n",
        ".widget-textarea textarea {\n",
        "    font-size: 18px;\n",
        "    font-family: \"Arial\", sans-serif;\n",
        "}\n",
        "</style>\n",
        "\"\"\"))\n",
        "display(vbox)\n"
      ],
      "metadata": {
        "colab": {
          "base_uri": "https://localhost:8080/",
          "height": 185,
          "referenced_widgets": [
            "2f22e1c2b1bc4fbba3dee803dff311a2",
            "244d5b74163c4152903f2925bc5c342a",
            "cdfed9c012ec49698f33986b9175428b",
            "2ec33903b3e74de4a8ac8b0ccfbf36bf",
            "fb328cec7cb742b495235a0233b6cd4a",
            "b495fa16dc084afda08fa71237c00258",
            "b48682cdcccf45258a78f9f49b490c89",
            "5101857e59c74771bdf1663ff28f62b2",
            "a74c873b3cab4c00ae667defa2bcbf3d",
            "7bf8085d1a9d416cbe9069a0f38be750",
            "c2e916864b03468882065629a7e049ff",
            "d66e7d288d154c0d90bce860737dee4b",
            "1fb8722237b4455d987320569546253f"
          ]
        },
        "id": "MXMTPjz6cqsI",
        "outputId": "33cfa383-5a2d-4d39-bdf2-fb0feab208c2"
      },
      "execution_count": 16,
      "outputs": [
        {
          "output_type": "display_data",
          "data": {
            "text/plain": [
              "<IPython.core.display.HTML object>"
            ],
            "text/html": [
              "\n",
              "  <style>\n",
              "    pre {\n",
              "        white-space: pre-wrap;\n",
              "    }\n",
              "  </style>\n",
              "  "
            ]
          },
          "metadata": {}
        },
        {
          "output_type": "display_data",
          "data": {
            "text/plain": [
              "<IPython.core.display.HTML object>"
            ],
            "text/html": [
              "\n",
              "<style>\n",
              ".widget-dropdown select {\n",
              "    font-size: 18px;\n",
              "    font-family: \"Arial\", sans-serif;\n",
              "}\n",
              ".widget-textarea textarea {\n",
              "    font-size: 18px;\n",
              "    font-family: \"Arial\", sans-serif;\n",
              "}\n",
              "</style>\n"
            ]
          },
          "metadata": {}
        },
        {
          "output_type": "display_data",
          "data": {
            "text/plain": [
              "GridBox(children=(Dropdown(layout=Layout(width='auto'), options=('google/gemini-2.0-flash', 'google/gemini-2.0…"
            ],
            "application/vnd.jupyter.widget-view+json": {
              "version_major": 2,
              "version_minor": 0,
              "model_id": "2f22e1c2b1bc4fbba3dee803dff311a2"
            }
          },
          "metadata": {}
        }
      ]
    },
    {
      "cell_type": "code",
      "metadata": {
        "colab": {
          "base_uri": "https://localhost:8080/",
          "height": 34
        },
        "id": "93224d4b",
        "outputId": "976725d3-d8d6-47a4-f019-eb3f643f399c"
      },
      "source": [
        "from google.colab import drive\n",
        "drive.mount('/content/drive')"
      ],
      "execution_count": 17,
      "outputs": [
        {
          "output_type": "display_data",
          "data": {
            "text/plain": [
              "<IPython.core.display.HTML object>"
            ],
            "text/html": [
              "\n",
              "  <style>\n",
              "    pre {\n",
              "        white-space: pre-wrap;\n",
              "    }\n",
              "  </style>\n",
              "  "
            ]
          },
          "metadata": {}
        },
        {
          "output_type": "stream",
          "name": "stdout",
          "text": [
            "Drive already mounted at /content/drive; to attempt to forcibly remount, call drive.mount(\"/content/drive\", force_remount=True).\n"
          ]
        }
      ]
    },
    {
      "cell_type": "code",
      "source": [
        "from google.colab import userdata\n",
        "userdata.get('OPEN_AI_LAB')"
      ],
      "metadata": {
        "id": "SOZEZ17qe7TN"
      },
      "execution_count": null,
      "outputs": []
    },
    {
      "cell_type": "code",
      "source": [
        "from IPython.display import HTML, display\n",
        "\n",
        "def set_css():\n",
        "  display(HTML('''\n",
        "  <style>\n",
        "    pre {\n",
        "        white-space: pre-wrap;\n",
        "    }\n",
        "  </style>\n",
        "  '''))\n",
        "get_ipython().events.register('pre_run_cell', set_css)"
      ],
      "metadata": {
        "id": "yoo4k_QlaLMW",
        "colab": {
          "base_uri": "https://localhost:8080/",
          "height": 17
        },
        "outputId": "af51069b-53f1-4183-cd26-78bc7c72d0a9"
      },
      "execution_count": 19,
      "outputs": [
        {
          "output_type": "display_data",
          "data": {
            "text/plain": [
              "<IPython.core.display.HTML object>"
            ],
            "text/html": [
              "\n",
              "  <style>\n",
              "    pre {\n",
              "        white-space: pre-wrap;\n",
              "    }\n",
              "  </style>\n",
              "  "
            ]
          },
          "metadata": {}
        }
      ]
    },
    {
      "cell_type": "code",
      "source": [
        "# Install requirements\n",
        "\n",
        "!pip install --upgrade --quiet presidio-analyzer presidio-anonymizer Faker langchain_core langchain_community langchain_openai faiss-cpu --no-deps"
      ],
      "metadata": {
        "colab": {
          "base_uri": "https://localhost:8080/",
          "height": 17
        },
        "id": "pkLN1AfOaMvX",
        "outputId": "a943f393-0022-4b10-8588-ff78e2d9bd0d",
        "collapsed": true
      },
      "execution_count": 20,
      "outputs": [
        {
          "output_type": "display_data",
          "data": {
            "text/plain": [
              "<IPython.core.display.HTML object>"
            ],
            "text/html": [
              "\n",
              "  <style>\n",
              "    pre {\n",
              "        white-space: pre-wrap;\n",
              "    }\n",
              "  </style>\n",
              "  "
            ]
          },
          "metadata": {}
        },
        {
          "output_type": "display_data",
          "data": {
            "text/plain": [
              "<IPython.core.display.HTML object>"
            ],
            "text/html": [
              "\n",
              "  <style>\n",
              "    pre {\n",
              "        white-space: pre-wrap;\n",
              "    }\n",
              "  </style>\n",
              "  "
            ]
          },
          "metadata": {}
        }
      ]
    },
    {
      "cell_type": "code",
      "source": [
        "# Set the local model that will be used to anonymize and de-anonymize your data on your computer\n",
        "\n",
        "!python -m spacy download en_core_web_lg\n",
        "\n",
        "import spacy\n",
        "nlp = spacy.load(\"en_core_web_lg\")"
      ],
      "metadata": {
        "id": "b2DwIHuqz3R7",
        "collapsed": true
      },
      "execution_count": null,
      "outputs": []
    },
    {
      "cell_type": "markdown",
      "source": [
        "Add `%load_ext cudf.pandas` before importing pandas to speed up operations using GPU"
      ],
      "metadata": {
        "id": "K5gagffjgbM1"
      }
    },
    {
      "cell_type": "code",
      "source": [
        "%load_ext cudf.pandas\n",
        "import pandas as pd\n",
        "import numpy as np\n",
        "\n",
        "# Randomly generated dataset of parking violations-\n",
        "# Define the number of rows\n",
        "num_rows = 1000000\n",
        "\n",
        "states = [\"NY\", \"NJ\", \"CA\", \"TX\"]\n",
        "violations = [\"Double Parking\", \"Expired Meter\", \"No Parking\",\n",
        "              \"Fire Hydrant\", \"Bus Stop\"]\n",
        "vehicle_types = [\"SUBN\", \"SDN\"]\n",
        "\n",
        "# Create a date range\n",
        "start_date = \"2022-01-01\"\n",
        "end_date = \"2022-12-31\"\n",
        "dates = pd.date_range(start=start_date, end=end_date, freq='D')\n",
        "\n",
        "# Generate random data\n",
        "data = {\n",
        "    \"Registration State\": np.random.choice(states, size=num_rows),\n",
        "    \"Violation Description\": np.random.choice(violations, size=num_rows),\n",
        "    \"Vehicle Body Type\": np.random.choice(vehicle_types, size=num_rows),\n",
        "    \"Issue Date\": np.random.choice(dates, size=num_rows),\n",
        "    \"Ticket Number\": np.random.randint(1000000000, 9999999999, size=num_rows)\n",
        "}\n",
        "\n",
        "# Create a DataFrame\n",
        "df = pd.DataFrame(data)\n",
        "\n",
        "# Which parking violation is most commonly committed by vehicles from various U.S states?\n",
        "\n",
        "(df[[\"Registration State\", \"Violation Description\"]]  # get only these two columns\n",
        " .value_counts()  # get the count of offences per state and per type of offence\n",
        " .groupby(\"Registration State\")  # group by state\n",
        " .head(1)  # get the first row in each group (the type of offence with the largest count)\n",
        " .sort_index()  # sort by state name\n",
        " .reset_index()\n",
        ")"
      ],
      "metadata": {
        "colab": {
          "base_uri": "https://localhost:8080/",
          "height": 244
        },
        "id": "Z7lZEwvLgbM1",
        "outputId": "05d4008d-26a6-4225-ddfe-1ac95d8d042d"
      },
      "execution_count": 31,
      "outputs": [
        {
          "output_type": "display_data",
          "data": {
            "text/plain": [
              "<IPython.core.display.HTML object>"
            ],
            "text/html": [
              "\n",
              "  <style>\n",
              "    pre {\n",
              "        white-space: pre-wrap;\n",
              "    }\n",
              "  </style>\n",
              "  "
            ]
          },
          "metadata": {}
        },
        {
          "output_type": "display_data",
          "data": {
            "text/plain": [
              "<IPython.core.display.HTML object>"
            ],
            "text/html": [
              "\n",
              "  <style>\n",
              "    pre {\n",
              "        white-space: pre-wrap;\n",
              "    }\n",
              "  </style>\n",
              "  "
            ]
          },
          "metadata": {}
        },
        {
          "output_type": "stream",
          "name": "stderr",
          "text": [
            "/usr/local/lib/python3.12/dist-packages/cudf/utils/gpu_utils.py:75: UserWarning: Failed to dlopen libcuda.so.1\n",
            "  warnings.warn(str(e))\n",
            "/usr/local/lib/python3.12/dist-packages/cudf/pandas/__init__.py:64: UserWarning: Function \"cuInit\" not found\n",
            "  warnings.warn(str(e))\n"
          ]
        },
        {
          "output_type": "execute_result",
          "data": {
            "text/plain": [
              "  Registration State Violation Description  count\n",
              "0                 CA         Expired Meter  50174\n",
              "1                 NJ        Double Parking  50319\n",
              "2                 NY         Expired Meter  50332\n",
              "3                 TX         Expired Meter  50228"
            ],
            "text/html": [
              "<div>\n",
              "<style scoped>\n",
              "    .dataframe tbody tr th:only-of-type {\n",
              "        vertical-align: middle;\n",
              "    }\n",
              "\n",
              "    .dataframe tbody tr th {\n",
              "        vertical-align: top;\n",
              "    }\n",
              "\n",
              "    .dataframe thead th {\n",
              "        text-align: right;\n",
              "    }\n",
              "</style>\n",
              "<table border=\"1\" class=\"dataframe\">\n",
              "  <thead>\n",
              "    <tr style=\"text-align: right;\">\n",
              "      <th></th>\n",
              "      <th>Registration State</th>\n",
              "      <th>Violation Description</th>\n",
              "      <th>count</th>\n",
              "    </tr>\n",
              "  </thead>\n",
              "  <tbody>\n",
              "    <tr>\n",
              "      <th>0</th>\n",
              "      <td>CA</td>\n",
              "      <td>Expired Meter</td>\n",
              "      <td>50174</td>\n",
              "    </tr>\n",
              "    <tr>\n",
              "      <th>1</th>\n",
              "      <td>NJ</td>\n",
              "      <td>Double Parking</td>\n",
              "      <td>50319</td>\n",
              "    </tr>\n",
              "    <tr>\n",
              "      <th>2</th>\n",
              "      <td>NY</td>\n",
              "      <td>Expired Meter</td>\n",
              "      <td>50332</td>\n",
              "    </tr>\n",
              "    <tr>\n",
              "      <th>3</th>\n",
              "      <td>TX</td>\n",
              "      <td>Expired Meter</td>\n",
              "      <td>50228</td>\n",
              "    </tr>\n",
              "  </tbody>\n",
              "</table>\n",
              "</div>"
            ],
            "application/vnd.google.colaboratory.intrinsic+json": {
              "type": "dataframe",
              "summary": "{\n  \"name\": \")\",\n  \"rows\": 4,\n  \"fields\": [\n    {\n      \"column\": \"Registration State\",\n      \"properties\": {\n        \"dtype\": \"string\",\n        \"num_unique_values\": 4,\n        \"samples\": [\n          \"NJ\",\n          \"TX\",\n          \"CA\"\n        ],\n        \"semantic_type\": \"\",\n        \"description\": \"\"\n      }\n    },\n    {\n      \"column\": \"Violation Description\",\n      \"properties\": {\n        \"dtype\": \"string\",\n        \"num_unique_values\": 2,\n        \"samples\": [\n          \"Double Parking\",\n          \"Expired Meter\"\n        ],\n        \"semantic_type\": \"\",\n        \"description\": \"\"\n      }\n    },\n    {\n      \"column\": \"count\",\n      \"properties\": {\n        \"dtype\": \"number\",\n        \"std\": 75,\n        \"min\": 50174,\n        \"max\": 50332,\n        \"num_unique_values\": 4,\n        \"samples\": [\n          50319,\n          50228\n        ],\n        \"semantic_type\": \"\",\n        \"description\": \"\"\n      }\n    }\n  ]\n}"
            }
          },
          "metadata": {},
          "execution_count": 31
        }
      ]
    },
    {
      "cell_type": "markdown",
      "source": [
        "# Step 2 - Input your data and detect personally identifiable information (PII)"
      ],
      "metadata": {
        "id": "e20WQStWxcgj"
      }
    },
    {
      "cell_type": "code",
      "execution_count": 22,
      "metadata": {
        "colab": {
          "base_uri": "https://localhost:8080/",
          "height": 399
        },
        "id": "tUo2s8GjzMsQ",
        "outputId": "08e4636d-ec5f-481d-eb37-0c7c09eae0a8"
      },
      "outputs": [
        {
          "output_type": "display_data",
          "data": {
            "text/plain": [
              "<IPython.core.display.HTML object>"
            ],
            "text/html": [
              "\n",
              "  <style>\n",
              "    pre {\n",
              "        white-space: pre-wrap;\n",
              "    }\n",
              "  </style>\n",
              "  "
            ]
          },
          "metadata": {}
        },
        {
          "output_type": "display_data",
          "data": {
            "text/plain": [
              "<IPython.core.display.HTML object>"
            ],
            "text/html": [
              "\n",
              "  <style>\n",
              "    pre {\n",
              "        white-space: pre-wrap;\n",
              "    }\n",
              "  </style>\n",
              "  "
            ]
          },
          "metadata": {}
        },
        {
          "output_type": "stream",
          "name": "stderr",
          "text": [
            "WARNING:presidio-analyzer:Recognizer not added to registry because language is not supported by registry - CreditCardRecognizer supported languages: es, registry supported languages: en\n",
            "WARNING:presidio-analyzer:Recognizer not added to registry because language is not supported by registry - CreditCardRecognizer supported languages: it, registry supported languages: en\n",
            "WARNING:presidio-analyzer:Recognizer not added to registry because language is not supported by registry - CreditCardRecognizer supported languages: pl, registry supported languages: en\n",
            "WARNING:presidio-analyzer:Recognizer not added to registry because language is not supported by registry - EsNifRecognizer supported languages: es, registry supported languages: en\n",
            "WARNING:presidio-analyzer:Recognizer not added to registry because language is not supported by registry - EsNieRecognizer supported languages: es, registry supported languages: en\n",
            "WARNING:presidio-analyzer:Recognizer not added to registry because language is not supported by registry - ItDriverLicenseRecognizer supported languages: it, registry supported languages: en\n",
            "WARNING:presidio-analyzer:Recognizer not added to registry because language is not supported by registry - ItFiscalCodeRecognizer supported languages: it, registry supported languages: en\n",
            "WARNING:presidio-analyzer:Recognizer not added to registry because language is not supported by registry - ItVatCodeRecognizer supported languages: it, registry supported languages: en\n",
            "WARNING:presidio-analyzer:Recognizer not added to registry because language is not supported by registry - ItIdentityCardRecognizer supported languages: it, registry supported languages: en\n",
            "WARNING:presidio-analyzer:Recognizer not added to registry because language is not supported by registry - ItPassportRecognizer supported languages: it, registry supported languages: en\n",
            "WARNING:presidio-analyzer:Recognizer not added to registry because language is not supported by registry - PlPeselRecognizer supported languages: pl, registry supported languages: en\n"
          ]
        }
      ],
      "source": [
        "# Import the necessary Presidio dependencies\n",
        "from presidio_analyzer import AnalyzerEngine, Pattern, PatternRecognizer, RecognizerRegistry\n",
        "from presidio_anonymizer import AnonymizerEngine, DeanonymizeEngine, OperatorConfig\n",
        "from presidio_anonymizer.entities import OperatorResult\n",
        "\n",
        "# Set the document to process\n",
        "document_content = \"\"\"\n",
        "**Green Valley High School**\n",
        "**Disciplinary Incident Report**\n",
        "**Date:** July 15, 2024\n",
        "**Incident Number:** GVHS-2024-072\n",
        "**Location:** Cafeteria\n",
        "---\n",
        "### **Incident Report**\n",
        "On July 14, 2024, at approximately 12:30 PM, an altercation occurred in the cafeteria between John Doe and Sarah Smith.\n",
        "John Doe, an 11th-grade student with Student ID 123456, was born on March 3, 2006.\n",
        "He resides at 789 Oak Street, Green Valley, CA 90210, with his parent, Jane Doe, who can be reached at (555) 123-4567.\n",
        "Sarah Smith, a 10th-grade student with Student ID 654321, was born on April 14, 2007, and lives at 456 Pine Avenue, Green Valley, CA 90210.\n",
        "Her parent, John Smith, can be contacted at (555) 987-6543.\n",
        "The incident began when John Doe accidentally spilled his drink on Sarah Smith.\n",
        "This led to a verbal argument between the two students, which quickly escalated to physical aggression, including pushing and shoving.\n",
        "The confrontation was witnessed by two other students, Emily Brown and Michael Johnson.\n",
        "Emily Brown, an 11th grader, provided her account of the incident and can be reached at (555) 321-7654.\n",
        "Michael Johnson, a 10th grader, also witnessed the event and his contact number is (555) 432-1765.\n",
        "School staff intervened promptly to separate John and Sarah and de-escalate the situation.\n",
        "Both students were then escorted to the principal’s office for further questioning.\n",
        "Parents of both students were notified immediately following the incident.\n",
        "After reviewing the circumstances, it was determined that John Doe would receive a one-day suspension for initiating the physical contact.\n",
        "Similarly, Sarah Smith received a one-day suspension for retaliating physically.\n",
        "To address the incident and prevent future occurrences, both students are required to attend a conflict resolution workshop\n",
        "scheduled for July 21, 2024. Additionally, a meeting with the parents of both students is scheduled for July 18, 2024,\n",
        "to discuss the incident and preventive measures.\n",
        "This report was prepared by Ms. Laura Stevens, Vice Principal, and reviewed by Mr. James Anderson, Principal.\n",
        "Contact: principal.office@greenvalleyhighschool.com\n",
        "\"\"\"\n",
        "\n",
        "# Set the registry to identify PII using predefined recognizers\n",
        "registry = RecognizerRegistry()\n",
        "registry.load_predefined_recognizers()\n",
        "\n",
        "# Call analyzer to get results\n",
        "analyzer = AnalyzerEngine(registry=registry)\n",
        "analysis_results = analyzer.analyze(text=document_content,\n",
        "                                    entities=[\"PHONE_NUMBER\", \"EMAIL_ADDRESS\", \"PERSON\", \"LOCATION\", \"DATE_TIME\"],\n",
        "                                    language='en')\n",
        "\n"
      ]
    },
    {
      "cell_type": "markdown",
      "source": [
        "# Step 3 - Check and improve PII detection"
      ],
      "metadata": {
        "id": "EQRlKEJuIkZG"
      }
    },
    {
      "cell_type": "code",
      "source": [
        "# Check identified PII\n",
        "def highlight_pii(text, results):\n",
        "    results = sorted(results, key=lambda r: r.start, reverse=True)\n",
        "    for result in results:\n",
        "        start = result.start\n",
        "        end = result.end\n",
        "        entity_text = text[start:end]\n",
        "        highlighted_entity = f\"\\033[1m{entity_text}\\033[0m\"\n",
        "        text = text[:start] + highlighted_entity + text[end:]\n",
        "    return text\n",
        "\n",
        "highlighted_text = highlight_pii(document_content, analysis_results)\n",
        "print(highlighted_text)"
      ],
      "metadata": {
        "colab": {
          "base_uri": "https://localhost:8080/",
          "height": 520
        },
        "id": "-3XIUfn0fH6Z",
        "outputId": "41a8e5cc-0380-4238-837d-69506007cb38"
      },
      "execution_count": 23,
      "outputs": [
        {
          "output_type": "display_data",
          "data": {
            "text/plain": [
              "<IPython.core.display.HTML object>"
            ],
            "text/html": [
              "\n",
              "  <style>\n",
              "    pre {\n",
              "        white-space: pre-wrap;\n",
              "    }\n",
              "  </style>\n",
              "  "
            ]
          },
          "metadata": {}
        },
        {
          "output_type": "display_data",
          "data": {
            "text/plain": [
              "<IPython.core.display.HTML object>"
            ],
            "text/html": [
              "\n",
              "  <style>\n",
              "    pre {\n",
              "        white-space: pre-wrap;\n",
              "    }\n",
              "  </style>\n",
              "  "
            ]
          },
          "metadata": {}
        },
        {
          "output_type": "stream",
          "name": "stdout",
          "text": [
            "\n",
            "**Green Valley High School**\n",
            "**Disciplinary Incident Report**\n",
            "**Date:** \u001b[1mJuly 15, 2024\u001b[0m\n",
            "**Incident Number:** GVHS-2024-072\n",
            "**Location:** Cafeteria\n",
            "---\n",
            "### **Incident Report**\n",
            "On \u001b[1mJuly 14, 2024\u001b[0m, at \u001b[1mapproximately 12:30 PM\u001b[0m, an altercation occurred in the cafeteria between \u001b[1mJohn Doe\u001b[0m and \u001b[1mSarah Smith\u001b[0m.\n",
            "\u001b[1mJohn Doe\u001b[0m, an 11th-grade student with Student ID 123456, was born on \u001b[1mMarch 3, 2006\u001b[0m.\n",
            "He resides at \u001b[1m789 Oak Street\u001b[0m, \u001b[1mGreen Valley\u001b[0m, \u001b[1mCA 90210\u001b[0m, with his parent, \u001b[1mJane Doe\u001b[0m, who can be reached at \u001b[1m(555) 123-4567\u001b[0m.\n",
            "\u001b[1mSarah Smith\u001b[0m, a 10th-grade student with Student ID 654321, was born on \u001b[1mApril 14, 2007\u001b[0m, and lives at \u001b[1m456 Pine Avenue\u001b[0m, \u001b[1mGreen Valley\u001b[0m, \u001b[1mCA 90210\u001b[0m.\n",
            "Her parent, \u001b[1mJohn Smith\u001b[0m, can be contacted at \u001b[1m(555) 987-6543\u001b[0m.\n",
            "The incident began when \u001b[1mJohn Doe\u001b[0m accidentally spilled his drink on \u001b[1mSarah Smith\u001b[0m.\n",
            "This led to a verbal argument between the two students, which quickly escalated to physical aggression, including pushing and shoving.\n",
            "The confrontation was witnessed by two other students, \u001b[1mEmily Brown\u001b[0m and \u001b[1mMichael Johnson\u001b[0m.\n",
            "\u001b[1mEmily Brown\u001b[0m, an 11th grader, provided her account of the incident and can be reached at \u001b[1m(555) 321-7654\u001b[0m.\n",
            "\u001b[1mMichael Johnson\u001b[0m, a 10th grader, also witnessed the event and his contact number is \u001b[1m(555) 432-1765\u001b[0m.\n",
            "School staff intervened promptly to separate \u001b[1mJohn\u001b[0m and \u001b[1mSarah\u001b[0m and de-escalate the situation.\n",
            "Both students were then escorted to the principal’s office for further questioning.\n",
            "Parents of both students were notified immediately following the incident.\n",
            "After reviewing the circumstances, it was determined that \u001b[1mJohn Doe\u001b[0m would receive a \u001b[1mone-day\u001b[0m suspension for initiating the physical contact.\n",
            "Similarly, \u001b[1mSarah Smith\u001b[0m received a \u001b[1mone-day\u001b[0m suspension for retaliating physically.\n",
            "To address the incident and prevent future occurrences, both students are required to attend a conflict resolution workshop\n",
            "scheduled for \u001b[1mJuly 21, 2024\u001b[0m. Additionally, a meeting with the parents of both students is scheduled for \u001b[1mJuly 18, 2024\u001b[0m,\n",
            "to discuss the incident and preventive measures.\n",
            "This report was prepared by Ms. \u001b[1mLaura Stevens\u001b[0m, Vice \u001b[1mPrincipal\u001b[0m, and reviewed by Mr. \u001b[1mJames Anderson\u001b[0m, Principal.\n",
            "Contact: \u001b[1mprincipal.office@greenvalleyhighschool.com\u001b[0m\n",
            "\n"
          ]
        }
      ]
    },
    {
      "cell_type": "code",
      "source": [
        "# Define custom patterns to identify specific PII types not covered by built-in recognizers\n",
        "student_id_pattern = Pattern(\n",
        "    name=\"student_id_pattern\",\n",
        "    regex=r\"\\bStudent ID \\d{6}\\b\",\n",
        "    score=0.9\n",
        ")\n",
        "\n",
        "address_pattern = Pattern(\n",
        "    name=\"address_pattern\",\n",
        "    regex=r\"\\b\\d+\\s[A-Z][a-zA-Z]*\\s(?:Street|St|Avenue|Ave|Boulevard|Blvd|Road|Rd|Lane|Ln|Drive|Dr|Court|Ct|Place|Pl|Square|Sq|Loop|Lp|Trail|Trl|Parkway|Pkwy|Commons|Cmns|Terrace|Ter|Circle|Cir|Way)\\b\",\n",
        "    score=0.9\n",
        ")\n",
        "\n",
        "school_name_pattern = Pattern(\n",
        "    name=\"school_name_pattern\",\n",
        "    regex=r\"\\b(?:[A-Z][a-z]+(?:\\s|$)){1,3}(?:High School|Elementary School|University|College|Academy|Institute)(?:\\s[A-Z][a-z]+)*\\b\",\n",
        "    score=0.9\n",
        ")\n",
        "\n",
        "# Create pattern recognizers for these custom PII types\n",
        "student_id_recognizer = PatternRecognizer(supported_entity=\"STUDENT_ID\", patterns=[student_id_pattern])\n",
        "address_recognizer = PatternRecognizer(supported_entity=\"ADDRESS\", patterns=[address_pattern])\n",
        "school_name_recognizer = PatternRecognizer(supported_entity=\"SCHOOL_NAME\", patterns=[school_name_pattern])\n",
        "\n",
        "# Add the custom recognizers to the registry\n",
        "registry.add_recognizer(student_id_recognizer)\n",
        "registry.add_recognizer(address_recognizer)\n",
        "registry.add_recognizer(school_name_recognizer)\n",
        "\n",
        "# Call the analyzer with the updted registry\n",
        "analyzer = AnalyzerEngine(registry=registry)\n",
        "analysis_results = analyzer.analyze(text=document_content,\n",
        "                                    entities=[\"PHONE_NUMBER\", \"EMAIL_ADDRESS\", \"PERSON\", \"LOCATION\", \"DATE_TIME\", \"STUDENT_ID\", \"ADDRESS\", \"SCHOOL_NAME\"],\n",
        "                                    language='en')\n"
      ],
      "metadata": {
        "colab": {
          "base_uri": "https://localhost:8080/",
          "height": 17
        },
        "id": "c7LxR6QcgvWZ",
        "outputId": "1093565b-ca87-43f7-f6eb-4beb74056de9"
      },
      "execution_count": 24,
      "outputs": [
        {
          "output_type": "display_data",
          "data": {
            "text/plain": [
              "<IPython.core.display.HTML object>"
            ],
            "text/html": [
              "\n",
              "  <style>\n",
              "    pre {\n",
              "        white-space: pre-wrap;\n",
              "    }\n",
              "  </style>\n",
              "  "
            ]
          },
          "metadata": {}
        },
        {
          "output_type": "display_data",
          "data": {
            "text/plain": [
              "<IPython.core.display.HTML object>"
            ],
            "text/html": [
              "\n",
              "  <style>\n",
              "    pre {\n",
              "        white-space: pre-wrap;\n",
              "    }\n",
              "  </style>\n",
              "  "
            ]
          },
          "metadata": {}
        }
      ]
    },
    {
      "cell_type": "code",
      "source": [
        "# Check identified PII again\n",
        "def highlight_pii(text, results):\n",
        "    results = sorted(results, key=lambda r: r.start, reverse=True)\n",
        "    for result in results:\n",
        "        start = result.start\n",
        "        end = result.end\n",
        "        entity_text = text[start:end]\n",
        "        highlighted_entity = f\"\\033[1m{entity_text}\\033[0m\"\n",
        "        text = text[:start] + highlighted_entity + text[end:]\n",
        "    return text\n",
        "\n",
        "highlighted_text = highlight_pii(document_content, analysis_results)\n",
        "print(highlighted_text)"
      ],
      "metadata": {
        "colab": {
          "base_uri": "https://localhost:8080/",
          "height": 520
        },
        "id": "UlI8-SwTi_6K",
        "outputId": "7a8dcc22-67fe-4d96-da00-dfe37b4d3696"
      },
      "execution_count": 25,
      "outputs": [
        {
          "output_type": "display_data",
          "data": {
            "text/plain": [
              "<IPython.core.display.HTML object>"
            ],
            "text/html": [
              "\n",
              "  <style>\n",
              "    pre {\n",
              "        white-space: pre-wrap;\n",
              "    }\n",
              "  </style>\n",
              "  "
            ]
          },
          "metadata": {}
        },
        {
          "output_type": "display_data",
          "data": {
            "text/plain": [
              "<IPython.core.display.HTML object>"
            ],
            "text/html": [
              "\n",
              "  <style>\n",
              "    pre {\n",
              "        white-space: pre-wrap;\n",
              "    }\n",
              "  </style>\n",
              "  "
            ]
          },
          "metadata": {}
        },
        {
          "output_type": "stream",
          "name": "stdout",
          "text": [
            "\n",
            "**\u001b[1mGreen Valley High School\u001b[0m**\n",
            "**Disciplinary Incident Report**\n",
            "**Date:** \u001b[1mJuly 15, 2024\u001b[0m\n",
            "**Incident Number:** GVHS-2024-072\n",
            "**Location:** Cafeteria\n",
            "---\n",
            "### **Incident Report**\n",
            "On \u001b[1mJuly 14, 2024\u001b[0m, at \u001b[1mapproximately 12:30 PM\u001b[0m, an altercation occurred in the cafeteria between \u001b[1mJohn Doe\u001b[0m and \u001b[1mSarah Smith\u001b[0m.\n",
            "\u001b[1mJohn Doe\u001b[0m, an 11th-grade student with \u001b[1mStudent ID 123456\u001b[0m, was born on \u001b[1mMarch 3, 2006\u001b[0m.\n",
            "He resides at \u001b[1m\u001b[1m789 Oak St\u001b[0mreet\u001b[0m, \u001b[1mGreen Valley\u001b[0m, \u001b[1mCA 90210\u001b[0m, with his parent, \u001b[1mJane Doe\u001b[0m, who can be reached at \u001b[1m(555) 123-4567\u001b[0m.\n",
            "\u001b[1mSarah Smith\u001b[0m, a 10th-grade student with \u001b[1mStudent ID 654321\u001b[0m, was born on \u001b[1mApril 14, 2007\u001b[0m, and lives at \u001b[1m\u001b[1m456 Pine Av\u001b[0menue\u001b[0m, \u001b[1mGreen Valley\u001b[0m, \u001b[1mCA 90210\u001b[0m.\n",
            "Her parent, \u001b[1mJohn Smith\u001b[0m, can be contacted at \u001b[1m(555) 987-6543\u001b[0m.\n",
            "The incident began when \u001b[1mJohn Doe\u001b[0m accidentally spilled his drink on \u001b[1mSarah Smith\u001b[0m.\n",
            "This led to a verbal argument between the two students, which quickly escalated to physical aggression, including pushing and shoving.\n",
            "The confrontation was witnessed by two other students, \u001b[1mEmily Brown\u001b[0m and \u001b[1mMichael Johnson\u001b[0m.\n",
            "\u001b[1mEmily Brown\u001b[0m, an 11th grader, provided her account of the incident and can be reached at \u001b[1m(555) 321-7654\u001b[0m.\n",
            "\u001b[1mMichael Johnson\u001b[0m, a 10th grader, also witnessed the event and his contact number is \u001b[1m(555) 432-1765\u001b[0m.\n",
            "School staff intervened promptly to separate \u001b[1mJohn\u001b[0m and \u001b[1mSarah\u001b[0m and de-escalate the situation.\n",
            "Both students were then escorted to the principal’s office for further questioning.\n",
            "Parents of both students were notified immediately following the incident.\n",
            "After reviewing the circumstances, it was determined that \u001b[1mJohn Doe\u001b[0m would receive a \u001b[1mone-day\u001b[0m suspension for initiating the physical contact.\n",
            "Similarly, \u001b[1mSarah Smith\u001b[0m received a \u001b[1mone-day\u001b[0m suspension for retaliating physically.\n",
            "To address the incident and prevent future occurrences, both students are required to attend a conflict resolution workshop\n",
            "scheduled for \u001b[1mJuly 21, 2024\u001b[0m. Additionally, a meeting with the parents of both students is scheduled for \u001b[1mJuly 18, 2024\u001b[0m,\n",
            "to discuss the incident and preventive measures.\n",
            "This report was prepared by Ms. \u001b[1mLaura Stevens\u001b[0m, Vice \u001b[1mPrincipal\u001b[0m, and reviewed by Mr. \u001b[1mJames Anderson\u001b[0m, Principal.\n",
            "Contact: \u001b[1mprincipal.office@greenvalleyhighschool.com\u001b[0m\n",
            "\n"
          ]
        }
      ]
    },
    {
      "cell_type": "markdown",
      "source": [
        "# Step 4 - Replace PII with fake data\n",
        "\n"
      ],
      "metadata": {
        "id": "8oNI3VYtxh9q"
      }
    },
    {
      "cell_type": "code",
      "source": [
        "# Map PII entities to fake values\n",
        "from faker import Faker\n",
        "from presidio_analyzer import AnalyzerEngine, Pattern, PatternRecognizer, RecognizerRegistry\n",
        "\n",
        "fake = Faker()\n",
        "fake_map = {}\n",
        "reverse_map = {}\n",
        "\n",
        "def generate_fake(entity_type, original_value):\n",
        "    if original_value not in fake_map:\n",
        "        if entity_type == \"PERSON\":\n",
        "            fake_map[original_value] = fake.name()\n",
        "        elif entity_type == \"PHONE_NUMBER\":\n",
        "            fake_map[original_value] = fake.phone_number()\n",
        "        elif entity_type == \"ADDRESS\":\n",
        "            fake_map[original_value] = fake.address().replace(\"\\n\", \", \")\n",
        "        elif entity_type == \"DATE_TIME\":\n",
        "            fake_map[original_value] = fake.date()\n",
        "        elif entity_type == \"STUDENT_ID\":\n",
        "            fake_map[original_value] = f\"Student ID {fake.random_number(digits=6, fix_len=True)}\"\n",
        "        elif entity_type == \"LOCATION\":\n",
        "            fake_map[original_value] = fake.city()\n",
        "        elif entity_type == \"EMAIL_ADDRESS\":\n",
        "            fake_map[original_value] = fake.email()\n",
        "        elif entity_type == \"SCHOOL_NAME\":\n",
        "            fake_map[original_value] = fake.company()\n",
        "        reverse_map[fake_map[original_value]] = original_value\n",
        "    return fake_map[original_value]\n",
        "\n",
        "# Replace PII with fake values\n",
        "def replace_with_fakes(text, results):\n",
        "    results = sorted(results, key=lambda r: r.start, reverse=True)\n",
        "    for result in results:\n",
        "        original_value = text[result.start:result.end]\n",
        "        fake_value = generate_fake(result.entity_type, original_value)\n",
        "        text = text[:result.start] + fake_value + text[result.end:]\n",
        "    return text\n",
        "\n",
        "# Ensure all PII entities are identified and replaced\n",
        "anonymized_text_with_fakes = replace_with_fakes(document_content, analysis_results)\n",
        "\n",
        "print(\"Anonymized Text with Fakes:\")\n",
        "print(anonymized_text_with_fakes)"
      ],
      "metadata": {
        "colab": {
          "base_uri": "https://localhost:8080/",
          "height": 590
        },
        "id": "zsLqjIn4zW3V",
        "outputId": "b4b2054f-410b-48d5-9136-71b717657c66"
      },
      "execution_count": 26,
      "outputs": [
        {
          "output_type": "display_data",
          "data": {
            "text/plain": [
              "<IPython.core.display.HTML object>"
            ],
            "text/html": [
              "\n",
              "  <style>\n",
              "    pre {\n",
              "        white-space: pre-wrap;\n",
              "    }\n",
              "  </style>\n",
              "  "
            ]
          },
          "metadata": {}
        },
        {
          "output_type": "display_data",
          "data": {
            "text/plain": [
              "<IPython.core.display.HTML object>"
            ],
            "text/html": [
              "\n",
              "  <style>\n",
              "    pre {\n",
              "        white-space: pre-wrap;\n",
              "    }\n",
              "  </style>\n",
              "  "
            ]
          },
          "metadata": {}
        },
        {
          "output_type": "stream",
          "name": "stdout",
          "text": [
            "Anonymized Text with Fakes:\n",
            "\n",
            "**Ruiz, Cannon and Miller**\n",
            "**Disciplinary Incident Report**\n",
            "**Date:** 1985-02-13\n",
            "**Incident Number:** GVHS-2024-072\n",
            "**Location:** Cafeteria\n",
            "---\n",
            "### **Incident Report**\n",
            "On 1987-04-25, at 2005-01-19, an altercation occurred in the cafeteria between Jerome Nunez and Jordan Murray.\n",
            "Jerome Nunez, an 11th-grade student with Student ID 151156, was born on 1988-12-02.\n",
            "He resides at Strongtonnch Suite 053, East Elizabethborough, WY 11421, Jacksonville, 2002-01-18, with his parent, Jeffrey Ray DDS, who can be reached at 3366343537.\n",
            "Jordan Murray, a 10th-grade student with Student ID 408932, was born on 1978-11-01, and lives at South SamanthaApt. 415, East Angelaton, FM 75742, Jacksonville, 2002-01-18.\n",
            "Her parent, Kelly Thornton, can be contacted at 001-703-453-3796.\n",
            "The incident began when Jerome Nunez accidentally spilled his drink on Jordan Murray.\n",
            "This led to a verbal argument between the two students, which quickly escalated to physical aggression, including pushing and shoving.\n",
            "The confrontation was witnessed by two other students, Mr. Richard Gray and Todd Franklin.\n",
            "Mr. Richard Gray, an 11th grader, provided her account of the incident and can be reached at +1-455-688-6826x4798.\n",
            "Todd Franklin, a 10th grader, also witnessed the event and his contact number is 490-715-2825.\n",
            "School staff intervened promptly to separate Margaret Peterson and Derek Carter and de-escalate the situation.\n",
            "Both students were then escorted to the principal’s office for further questioning.\n",
            "Parents of both students were notified immediately following the incident.\n",
            "After reviewing the circumstances, it was determined that Jerome Nunez would receive a 2021-03-21 suspension for initiating the physical contact.\n",
            "Similarly, Jordan Murray received a 2021-03-21 suspension for retaliating physically.\n",
            "To address the incident and prevent future occurrences, both students are required to attend a conflict resolution workshop\n",
            "scheduled for 1973-03-22. Additionally, a meeting with the parents of both students is scheduled for 1997-02-22,\n",
            "to discuss the incident and preventive measures.\n",
            "This report was prepared by Ms. Susan Sanchez, Vice Amy Bowman, and reviewed by Mr. Dr. Nicole Cardenas, Principal.\n",
            "Contact: shane23@example.net\n",
            "\n"
          ]
        }
      ]
    },
    {
      "cell_type": "markdown",
      "source": [
        "# Step 5 - Chat with you anonymized data"
      ],
      "metadata": {
        "id": "vopkHtIxxjIW"
      }
    },
    {
      "cell_type": "code",
      "source": [
        "# Import dependencies for a RAG chain\n",
        "from langchain_core.documents import Document\n",
        "from langchain_community.vectorstores import FAISS\n",
        "from langchain_openai import OpenAIEmbeddings\n",
        "from langchain_openai import ChatOpenAI\n",
        "from langchain_text_splitters import RecursiveCharacterTextSplitter\n",
        "from langchain_core.prompts import ChatPromptTemplate\n",
        "from langchain_core.runnables import RunnableLambda, RunnableParallel, RunnablePassthrough\n",
        "from langchain_core.output_parsers import StrOutputParser\n",
        "from operator import itemgetter\n",
        "from google.colab import userdata\n",
        "import os\n",
        "\n",
        "# Load and anonymize the data\n",
        "documents = [Document(page_content=document_content)]\n",
        "for doc in documents:\n",
        "    doc.page_content = replace_with_fakes(doc.page_content, analysis_results)\n",
        "\n",
        "# Split the documents into chunks\n",
        "text_splitter = RecursiveCharacterTextSplitter(chunk_size=1000, chunk_overlap=100)\n",
        "chunks = text_splitter.split_documents(documents)\n",
        "\n",
        "# Set OpenAI API key\n",
        "try:\n",
        "    os.environ[\"OPENAI_API_KEY\"] = userdata.get('OPEN_AI_LAB')\n",
        "except userdata.SecretNotFoundError:\n",
        "    print(\"Secret OPENAI_API_KEY not found. Please add it to Colab secrets.\")\n",
        "    # Exit or handle the error appropriately, e.g., raise an exception\n",
        "    raise\n",
        "\n",
        "# Index the chunks (using OpenAI embeddings, since the data is anonymized)\n",
        "embeddings = OpenAIEmbeddings()\n",
        "docsearch = FAISS.from_documents(chunks, embeddings)\n",
        "retriever = docsearch.as_retriever()\n",
        "\n",
        "# Create the RAG chain\n",
        "template = \"\"\"Answer the question based only on the following context: {context}\n",
        "Question: {question}\n",
        "\"\"\"\n",
        "prompt = ChatPromptTemplate.from_template(template)\n",
        "model = ChatOpenAI(model=\"gpt-4o\", temperature=0.1)\n",
        "\n",
        "# Define the processing chain\n",
        "_inputs = RunnableParallel(\n",
        "    question=RunnablePassthrough(),\n",
        "    context=retriever\n",
        ")\n",
        "\n",
        "rag_chain = (\n",
        "    _inputs\n",
        "    | {\n",
        "        \"context\": itemgetter(\"context\"),\n",
        "        \"question\": itemgetter(\"question\"),\n",
        "    }\n",
        "    | prompt\n",
        "    | model\n",
        "    | StrOutputParser()\n",
        ")"
      ],
      "metadata": {
        "colab": {
          "base_uri": "https://localhost:8080/",
          "height": 17
        },
        "id": "pv0m9UkzCApz",
        "outputId": "627a0246-1349-47b6-df0c-6b9f9508ffc0"
      },
      "execution_count": 28,
      "outputs": [
        {
          "output_type": "display_data",
          "data": {
            "text/plain": [
              "<IPython.core.display.HTML object>"
            ],
            "text/html": [
              "\n",
              "  <style>\n",
              "    pre {\n",
              "        white-space: pre-wrap;\n",
              "    }\n",
              "  </style>\n",
              "  "
            ]
          },
          "metadata": {}
        },
        {
          "output_type": "display_data",
          "data": {
            "text/plain": [
              "<IPython.core.display.HTML object>"
            ],
            "text/html": [
              "\n",
              "  <style>\n",
              "    pre {\n",
              "        white-space: pre-wrap;\n",
              "    }\n",
              "  </style>\n",
              "  "
            ]
          },
          "metadata": {}
        }
      ]
    },
    {
      "cell_type": "code",
      "source": [
        "# Example question\n",
        "query = \"Summarize the incident\"\n",
        "response = rag_chain.invoke(query)\n",
        "print(response)\n"
      ],
      "metadata": {
        "colab": {
          "base_uri": "https://localhost:8080/",
          "height": 121
        },
        "id": "C6azKKrmy568",
        "outputId": "f325275b-50ab-4696-c8b0-b0065d84ab96"
      },
      "execution_count": 29,
      "outputs": [
        {
          "output_type": "display_data",
          "data": {
            "text/plain": [
              "<IPython.core.display.HTML object>"
            ],
            "text/html": [
              "\n",
              "  <style>\n",
              "    pre {\n",
              "        white-space: pre-wrap;\n",
              "    }\n",
              "  </style>\n",
              "  "
            ]
          },
          "metadata": {}
        },
        {
          "output_type": "display_data",
          "data": {
            "text/plain": [
              "<IPython.core.display.HTML object>"
            ],
            "text/html": [
              "\n",
              "  <style>\n",
              "    pre {\n",
              "        white-space: pre-wrap;\n",
              "    }\n",
              "  </style>\n",
              "  "
            ]
          },
          "metadata": {}
        },
        {
          "output_type": "stream",
          "name": "stdout",
          "text": [
            "The incident involved a physical altercation between two students, Jerome Nunez and Jordan Murray, in the cafeteria. It began when Jerome accidentally spilled his drink on Jordan, leading to a verbal argument that escalated into physical aggression, including pushing and shoving. The confrontation was witnessed by two other students, Richard Gray and Todd Franklin. School staff intervened promptly to separate the students and de-escalate the situation. Both students were escorted to the principal’s office, and their parents were notified immediately. As a result, Jerome Nunez received a suspension for initiating the physical contact, and Jordan Murray was suspended for retaliating. Both students are required to attend a conflict resolution workshop to address the incident and prevent future occurrences.\n"
          ]
        }
      ]
    },
    {
      "cell_type": "code",
      "source": [
        "# De-anonymize the response\n",
        "# Reminder: nlp = \"en_core_web_lg\"\n",
        "def custom_deanonymize(text):\n",
        "    doc = nlp(text)\n",
        "    for ent in doc.ents:\n",
        "        if ent.text in reverse_map:\n",
        "            text = text.replace(ent.text, reverse_map[ent.text])\n",
        "    return text\n",
        "\n",
        "# Define the processing chain with de-anonymization\n",
        "chain_with_deanonymization = rag_chain | RunnableLambda(custom_deanonymize)\n",
        "\n",
        "# Example question to test the chain\n",
        "response = chain_with_deanonymization.invoke(query)\n",
        "print(response)"
      ],
      "metadata": {
        "colab": {
          "base_uri": "https://localhost:8080/",
          "height": 121
        },
        "id": "3g9xHFiBy9S0",
        "outputId": "55b80164-958d-4e71-bdd6-a1383940ff21"
      },
      "execution_count": 30,
      "outputs": [
        {
          "output_type": "display_data",
          "data": {
            "text/plain": [
              "<IPython.core.display.HTML object>"
            ],
            "text/html": [
              "\n",
              "  <style>\n",
              "    pre {\n",
              "        white-space: pre-wrap;\n",
              "    }\n",
              "  </style>\n",
              "  "
            ]
          },
          "metadata": {}
        },
        {
          "output_type": "display_data",
          "data": {
            "text/plain": [
              "<IPython.core.display.HTML object>"
            ],
            "text/html": [
              "\n",
              "  <style>\n",
              "    pre {\n",
              "        white-space: pre-wrap;\n",
              "    }\n",
              "  </style>\n",
              "  "
            ]
          },
          "metadata": {}
        },
        {
          "output_type": "stream",
          "name": "stdout",
          "text": [
            "The incident occurred in the cafeteria on July 14, 2024 between John Doe, an 11th grader, and Sarah Smith, a 10th grader. It began when Jerome accidentally spilled his drink on Jordan, leading to a verbal argument that escalated into physical aggression, including pushing and shoving. The confrontation was witnessed by two other students, Richard Gray and Michael Johnson. School staff intervened promptly to separate the students and de-escalate the situation. Both students were escorted to the principal’s office, and their parents were notified immediately. John Doe received a suspension for initiating the physical contact, and Sarah Smith was suspended for retaliating. Both students are required to attend a conflict resolution workshop to prevent future occurrences.\n"
          ]
        }
      ]
    }
  ]
}